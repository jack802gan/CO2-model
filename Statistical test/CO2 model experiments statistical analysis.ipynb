{
 "cells": [
  {
   "cell_type": "code",
   "execution_count": 2,
   "metadata": {},
   "outputs": [],
   "source": [
    "import pandas as pd\n",
    "import numpy as np\n",
    "import random\n",
    "import matplotlib.pyplot as plt\n",
    "import scipy.stats as stats\n",
    "\n",
    "from scipy.stats import ttest_ind\n",
    "from scipy.stats import mannwhitneyu\n",
    "\n",
    "import statsmodels.api as sm\n",
    "from statsmodels.formula.api import ols"
   ]
  },
  {
   "cell_type": "code",
   "execution_count": 17,
   "metadata": {},
   "outputs": [
    {
     "data": {
      "text/html": [
       "<div>\n",
       "<style scoped>\n",
       "    .dataframe tbody tr th:only-of-type {\n",
       "        vertical-align: middle;\n",
       "    }\n",
       "\n",
       "    .dataframe tbody tr th {\n",
       "        vertical-align: top;\n",
       "    }\n",
       "\n",
       "    .dataframe thead th {\n",
       "        text-align: right;\n",
       "    }\n",
       "</style>\n",
       "<table border=\"1\" class=\"dataframe\">\n",
       "  <thead>\n",
       "    <tr style=\"text-align: right;\">\n",
       "      <th></th>\n",
       "      <th>Treatment</th>\n",
       "      <th>CO2</th>\n",
       "      <th>Time</th>\n",
       "      <th>Day</th>\n",
       "      <th>aperture</th>\n",
       "    </tr>\n",
       "  </thead>\n",
       "  <tbody>\n",
       "    <tr>\n",
       "      <th>0</th>\n",
       "      <td>Preincubation</td>\n",
       "      <td>control(0 time)</td>\n",
       "      <td>10min</td>\n",
       "      <td>Day1</td>\n",
       "      <td>2.841</td>\n",
       "    </tr>\n",
       "    <tr>\n",
       "      <th>1</th>\n",
       "      <td>Preincubation</td>\n",
       "      <td>control(0 time)</td>\n",
       "      <td>10min</td>\n",
       "      <td>Day1</td>\n",
       "      <td>3.108</td>\n",
       "    </tr>\n",
       "    <tr>\n",
       "      <th>2</th>\n",
       "      <td>Preincubation</td>\n",
       "      <td>control(0 time)</td>\n",
       "      <td>10min</td>\n",
       "      <td>Day1</td>\n",
       "      <td>2.728</td>\n",
       "    </tr>\n",
       "    <tr>\n",
       "      <th>3</th>\n",
       "      <td>Preincubation</td>\n",
       "      <td>control(0 time)</td>\n",
       "      <td>10min</td>\n",
       "      <td>Day1</td>\n",
       "      <td>2.004</td>\n",
       "    </tr>\n",
       "    <tr>\n",
       "      <th>4</th>\n",
       "      <td>Preincubation</td>\n",
       "      <td>control(0 time)</td>\n",
       "      <td>10min</td>\n",
       "      <td>Day1</td>\n",
       "      <td>1.201</td>\n",
       "    </tr>\n",
       "    <tr>\n",
       "      <th>...</th>\n",
       "      <td>...</td>\n",
       "      <td>...</td>\n",
       "      <td>...</td>\n",
       "      <td>...</td>\n",
       "      <td>...</td>\n",
       "    </tr>\n",
       "    <tr>\n",
       "      <th>2692</th>\n",
       "      <td>0.15mM SNP</td>\n",
       "      <td>800ppm</td>\n",
       "      <td>20min</td>\n",
       "      <td>Day3</td>\n",
       "      <td>2.043</td>\n",
       "    </tr>\n",
       "    <tr>\n",
       "      <th>2693</th>\n",
       "      <td>0.15mM SNP</td>\n",
       "      <td>800ppm</td>\n",
       "      <td>20min</td>\n",
       "      <td>Day3</td>\n",
       "      <td>2.246</td>\n",
       "    </tr>\n",
       "    <tr>\n",
       "      <th>2694</th>\n",
       "      <td>0.15mM SNP</td>\n",
       "      <td>800ppm</td>\n",
       "      <td>20min</td>\n",
       "      <td>Day3</td>\n",
       "      <td>1.287</td>\n",
       "    </tr>\n",
       "    <tr>\n",
       "      <th>2695</th>\n",
       "      <td>0.15mM SNP</td>\n",
       "      <td>800ppm</td>\n",
       "      <td>20min</td>\n",
       "      <td>Day3</td>\n",
       "      <td>1.724</td>\n",
       "    </tr>\n",
       "    <tr>\n",
       "      <th>2696</th>\n",
       "      <td>0.15mM SNP</td>\n",
       "      <td>800ppm</td>\n",
       "      <td>20min</td>\n",
       "      <td>Day3</td>\n",
       "      <td>1.740</td>\n",
       "    </tr>\n",
       "  </tbody>\n",
       "</table>\n",
       "<p>1689 rows × 5 columns</p>\n",
       "</div>"
      ],
      "text/plain": [
       "          Treatment              CO2   Time   Day  aperture\n",
       "0     Preincubation  control(0 time)  10min  Day1     2.841\n",
       "1     Preincubation  control(0 time)  10min  Day1     3.108\n",
       "2     Preincubation  control(0 time)  10min  Day1     2.728\n",
       "3     Preincubation  control(0 time)  10min  Day1     2.004\n",
       "4     Preincubation  control(0 time)  10min  Day1     1.201\n",
       "...             ...              ...    ...   ...       ...\n",
       "2692     0.15mM SNP           800ppm  20min  Day3     2.043\n",
       "2693     0.15mM SNP           800ppm  20min  Day3     2.246\n",
       "2694     0.15mM SNP           800ppm  20min  Day3     1.287\n",
       "2695     0.15mM SNP           800ppm  20min  Day3     1.724\n",
       "2696     0.15mM SNP           800ppm  20min  Day3     1.740\n",
       "\n",
       "[1689 rows x 5 columns]"
      ]
     },
     "execution_count": 17,
     "metadata": {},
     "output_type": "execute_result"
    }
   ],
   "source": [
    "# Statistical analysis of the effect of NO (SNP treatment) on high CO2 induced stomatal closure\n",
    "\n",
    "sheetname1 = 'Fig_7A' # Figure 7A - effect of NO (SNP treatment) on high CO2 induced stomatal closure\n",
    "\n",
    "#below are data of other figures. The code for analysis may need adjustments (e.g. updating headers) to work on those data.\n",
    "#sheetname1 = 'Fig_S1' # Figure S1 - effect of SNAP treatment on high CO2 induced stomatal closure\n",
    "#sheetname1 = 'Fig_7B' # SNP can induce stomatal closure under ambient CO2\n",
    "#sheetname1 = 'Fig_8A' # cPTIO (NO scavenger) can impair high CO2 induced stomatal closure\n",
    "#sheetname1 = 'Fig_8D' # NO inhibits the phosphatase activity of ABI2 \n",
    "\n",
    "#df = pd.read_excel('CO2_model_data_20231120.xlsx', header=[0,1,2,3], sheet_name=sheetname1)\n",
    "df = pd.read_excel('S7_Data. Summary of all experimental data 2024-0219.xlsx', header=[0,1,2,3], sheet_name=sheetname1)\n",
    "\n",
    "# melting multiindex data\n",
    "df1 = pd.melt(df, var_name=['Treatment','CO2','Time','Day'], value_name='aperture').dropna()\n",
    "#df1.to_csv('CO2_model_data_20231120'+sheetname1+'_melted.csv',index=False, encoding='utf_8_sig')\n",
    "df1"
   ]
  },
  {
   "cell_type": "code",
   "execution_count": 18,
   "metadata": {},
   "outputs": [
    {
     "name": "stdout",
     "output_type": "stream",
     "text": [
      "               aperture                                              \n",
      "Time              10min                               20min          \n",
      "CO2              400ppm    800ppm control(0 time)    400ppm    800ppm\n",
      "Treatment                                                            \n",
      "0.05mM SNP     2.502929  1.760190             NaN  2.529368  1.680803\n",
      "0.15mM SNP     2.447195  1.653053             NaN  2.474158  1.581602\n",
      "0mM SNP        2.679207  2.156947             NaN  2.621809  1.980833\n",
      "Preincubation       NaN       NaN        2.731031       NaN       NaN\n",
      "               aperture                                              \n",
      "Time              10min                               20min          \n",
      "CO2              400ppm    800ppm control(0 time)    400ppm    800ppm\n",
      "Treatment                                                            \n",
      "0.05mM SNP     0.059132  0.038014             NaN  0.069425  0.033805\n",
      "0.15mM SNP     0.052334  0.035351             NaN  0.063584  0.030520\n",
      "0mM SNP        0.063648  0.046523             NaN  0.068909  0.042254\n",
      "Preincubation       NaN       NaN        0.063152       NaN       NaN\n"
     ]
    }
   ],
   "source": [
    "# calculating means and SEMs for each day, to create the figures \n",
    "dfx=df1\n",
    "# Mean\n",
    "dfx1 = pd.pivot_table(dfx, index=['Treatment'], values=['aperture'], columns=['Time','CO2'])\n",
    "print(dfx1)\n",
    "# SEM\n",
    "dfx2 = pd.pivot_table(dfx, index=['Treatment'], values=['aperture'], columns=['Time','CO2'], aggfunc='sem')\n",
    "print(dfx2)"
   ]
  },
  {
   "cell_type": "code",
   "execution_count": 20,
   "metadata": {},
   "outputs": [
    {
     "name": "stdout",
     "output_type": "stream",
     "text": [
      "Ttest_indResult(statistic=3.6503864256308067, pvalue=0.02773486510194757)\n",
      "Ttest_indResult(statistic=4.6278833423478485, pvalue=0.03444178806061061)\n",
      "Ttest_indResult(statistic=3.0201277793679178, pvalue=0.039677943152063834)\n"
     ]
    }
   ],
   "source": [
    "# Student's t-test \n",
    "# Below are example tests for Fig.7A, 7B and 8A. To use these code on the data of other figures, please update the formating, e.g. the column names (headers)\n",
    "\n",
    "#reformatting data\n",
    "dfx1 = pd.pivot_table(df1, values=['aperture'], columns=['Treatment','Time','CO2','Day'])\n",
    "dfx2 = pd.melt(dfx1, var_name=['Treatment','time','CO2','Day'], value_name='aperture').dropna() \n",
    "dfx2 = dfx2[dfx2['Treatment']!='Preincubation']\n",
    "\n",
    "# H0: In Col-0 under high CO2 and 10 min/20 min, the mean aperture under 0.15mM SNP is similar to the mean aperture without SNP\n",
    "\n",
    "s1 = dfx2[(dfx2['Treatment']=='0mM SNP')&(dfx2['time']=='10min')&(dfx2['CO2']=='800ppm')]['aperture']\n",
    "s2 = dfx2[(dfx2['Treatment']=='0.15mM SNP')&(dfx2['time']=='10min')&(dfx2['CO2']=='800ppm')]['aperture']\n",
    "print (ttest_ind(s1, s2,equal_var=False))\n",
    "\n",
    "s1 = dfx2[(dfx2['Treatment']=='0mM SNP')&(dfx2['time']=='20min')&(dfx2['CO2']=='800ppm')]['aperture']\n",
    "s2 = dfx2[(dfx2['Treatment']=='0.15mM SNP')&(dfx2['time']=='20min')&(dfx2['CO2']=='800ppm')]['aperture']\n",
    "print (ttest_ind(s1, s2,equal_var=False))\n",
    "\n",
    "# conclusion: reject H0, i.e. SNP causes significant change of aperture size\n",
    "\n",
    "s1 = dfx2[(dfx2['Treatment']=='0mM SNP')&(dfx2['time']=='20min')&(dfx2['CO2']=='800ppm')]['aperture']\n",
    "s2 = dfx2[(dfx2['Treatment']=='0.15mM SNP')&(dfx2['time']=='10min')&(dfx2['CO2']=='800ppm')]['aperture']\n",
    "print (ttest_ind(s1, s2,equal_var=False))"
   ]
  },
  {
   "cell_type": "code",
   "execution_count": 5,
   "metadata": {},
   "outputs": [
    {
     "name": "stdout",
     "output_type": "stream",
     "text": [
      "Ttest_indResult(statistic=8.019149054345954, pvalue=0.001569984747451356)\n"
     ]
    }
   ],
   "source": [
    "sheetname1 = 'Fig_7B' # SNP can induce stomatal closure under ambient CO2\n",
    "\n",
    "df = pd.read_excel('S7_Data. Summary of all experimental data 2024-0219.xlsx', header=[0,1,2], sheet_name=sheetname1)\n",
    "\n",
    "# melting multiindex data\n",
    "df1 = pd.melt(df, var_name=['Treatment','CO2','Day'], value_name='aperture').dropna()\n",
    "#reformatting data\n",
    "dfx1 = pd.pivot_table(df1, values=['aperture'], columns=['Treatment','CO2','Day'])\n",
    "dfx2 = pd.melt(dfx1, var_name=['Treatment','CO2','Day'], value_name='aperture').dropna() \n",
    "dfx2 = dfx2[dfx2['Treatment']!='Preincubation']\n",
    "\n",
    "s1 = dfx2[(dfx2['Treatment']=='0mM SNP')&(dfx2['CO2']=='400ppm')]['aperture']\n",
    "s2 = dfx2[(dfx2['Treatment']=='0.2mM SNP')&(dfx2['CO2']=='400ppm')]['aperture']\n",
    "print (ttest_ind(s1, s2, equal_var=False))\n"
   ]
  },
  {
   "cell_type": "code",
   "execution_count": 6,
   "metadata": {},
   "outputs": [
    {
     "name": "stdout",
     "output_type": "stream",
     "text": [
      "Ttest_indResult(statistic=-8.074872073749695, pvalue=0.0019090132343228235)\n"
     ]
    }
   ],
   "source": [
    "sheetname1 = 'Fig_8A' # cPTIO (NO scavenger) can impair high CO2 induced stomatal closure\n",
    "\n",
    "df = pd.read_excel('S7_Data. Summary of all experimental data 2024-0219.xlsx', header=[0,1,2], sheet_name=sheetname1)\n",
    "\n",
    "# melting multiindex data\n",
    "df1 = pd.melt(df, var_name=['Treatment','CO2','Day'], value_name='aperture').dropna()\n",
    "#reformatting data\n",
    "dfx1 = pd.pivot_table(df1, values=['aperture'], columns=['Treatment','CO2','Day'])\n",
    "dfx2 = pd.melt(dfx1, var_name=['Treatment','CO2','Day'], value_name='aperture').dropna() \n",
    "dfx2 = dfx2[dfx2['Treatment']!='Preincubation']\n",
    "\n",
    "s1 = dfx2[(dfx2['Treatment']=='0mM cPTIO')&(dfx2['CO2']=='800ppm')]['aperture']\n",
    "s2 = dfx2[(dfx2['Treatment']=='0.2mM cPTIO')&(dfx2['CO2']=='800ppm')]['aperture']\n",
    "print (ttest_ind(s1, s2, equal_var=False))"
   ]
  },
  {
   "cell_type": "code",
   "execution_count": 33,
   "metadata": {},
   "outputs": [
    {
     "name": "stdout",
     "output_type": "stream",
     "text": [
      "GST-ABI2 (28 nM)+ SNP (5 micro molar) Ttest_indResult(statistic=2.7072504791461163, pvalue=0.028478835422117675)\n",
      "GST-ABI2 (28 nM)+ SNP (10 micro molar) Ttest_indResult(statistic=3.8064467449856223, pvalue=0.0044276077113649575)\n",
      "GST-ABI2 (28 nM)+ SNP (20 micro molar) Ttest_indResult(statistic=3.418696896647688, pvalue=0.00746380796057148)\n",
      "GST-ABI2 (28 nM)+ SNP (25 micro molar) Ttest_indResult(statistic=8.059841902246456, pvalue=0.0002636090816580943)\n",
      "GST-ABI2 (28 nM)+ SNP (30 micro molar) Ttest_indResult(statistic=9.262972123595068, pvalue=7.519795464219619e-05)\n",
      "GST-ABI2 (28 nM)+ SNP (45 micro molar) Ttest_indResult(statistic=7.354519983918147, pvalue=3.5843402677251056e-05)\n",
      "GST-ABI2(28 nM)+ SNP (50 micro molar) Ttest_indResult(statistic=5.695165285353425, pvalue=0.00020180154670808713)\n"
     ]
    }
   ],
   "source": [
    "sheetname1 = 'Fig_8D' # cPTIO (NO scavenger) can impair high CO2 induced stomatal closure\n",
    "\n",
    "df = pd.read_excel('S7_Data. Summary of all experimental data 2024-0219.xlsx', skiprows=[0],sheet_name=sheetname1)\n",
    "\n",
    "ref_values = df.iloc[0, 1:7]\n",
    "for i in range (1,8):\n",
    "    conc = df.iloc[i,0]\n",
    "    values = df.iloc[i, 1:7]\n",
    "    print (conc,ttest_ind(ref_values, values, equal_var=False))"
   ]
  },
  {
   "cell_type": "code",
   "execution_count": null,
   "metadata": {},
   "outputs": [],
   "source": []
  }
 ],
 "metadata": {
  "kernelspec": {
   "display_name": "Python 3",
   "language": "python",
   "name": "python3"
  },
  "language_info": {
   "codemirror_mode": {
    "name": "ipython",
    "version": 3
   },
   "file_extension": ".py",
   "mimetype": "text/x-python",
   "name": "python",
   "nbconvert_exporter": "python",
   "pygments_lexer": "ipython3",
   "version": "3.8.5"
  }
 },
 "nbformat": 4,
 "nbformat_minor": 4
}
